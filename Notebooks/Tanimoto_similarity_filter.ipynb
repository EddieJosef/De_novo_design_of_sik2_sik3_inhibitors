{
  "cells": [
    {
      "cell_type": "code",
      "source": [
        "!pip install rdkit"
      ],
      "metadata": {
        "colab": {
          "base_uri": "https://localhost:8080/"
        },
        "id": "9B6blThW9-x5",
        "outputId": "1f1dcd97-d910-4d0d-83c6-bf429ac339be"
      },
      "id": "9B6blThW9-x5",
      "execution_count": null,
      "outputs": [
        {
          "output_type": "stream",
          "name": "stdout",
          "text": [
            "Collecting rdkit\n",
            "  Downloading rdkit-2023.9.4-cp310-cp310-manylinux_2_17_x86_64.manylinux2014_x86_64.whl (34.4 MB)\n",
            "\u001b[2K     \u001b[90m━━━━━━━━━━━━━━━━━━━━━━━━━━━━━━━━━━━━━━━━\u001b[0m \u001b[32m34.4/34.4 MB\u001b[0m \u001b[31m22.1 MB/s\u001b[0m eta \u001b[36m0:00:00\u001b[0m\n",
            "\u001b[?25hRequirement already satisfied: numpy in /usr/local/lib/python3.10/dist-packages (from rdkit) (1.23.5)\n",
            "Requirement already satisfied: Pillow in /usr/local/lib/python3.10/dist-packages (from rdkit) (9.4.0)\n",
            "Installing collected packages: rdkit\n",
            "Successfully installed rdkit-2023.9.4\n"
          ]
        }
      ]
    },
    {
      "cell_type": "code",
      "execution_count": null,
      "id": "aa48bb5e",
      "metadata": {
        "id": "aa48bb5e"
      },
      "outputs": [],
      "source": [
        "import numpy as np\n",
        "from rdkit import Chem\n",
        "from rdkit.Chem import AllChem, MACCSkeys\n",
        "from rdkit import DataStructs"
      ]
    },
    {
      "cell_type": "code",
      "execution_count": null,
      "id": "04120ea9",
      "metadata": {
        "colab": {
          "base_uri": "https://localhost:8080/"
        },
        "id": "04120ea9",
        "outputId": "b68e7b58-a6f8-4947-d0e7-921b81030c4e"
      },
      "outputs": [
        {
          "output_type": "stream",
          "name": "stdout",
          "text": [
            "Total SMILES: 80\n"
          ]
        }
      ],
      "source": [
        "# Load the accepted SMILES from a file\n",
        "with open('Enamine_MiniFrag.txt') as f:\n",
        "    SMILES = list(f)\n",
        "\n",
        "print(f\"Total SMILES: {len(SMILES)}\")"
      ]
    },
    {
      "cell_type": "code",
      "execution_count": null,
      "id": "770899be",
      "metadata": {
        "id": "770899be"
      },
      "outputs": [],
      "source": [
        "# Define the reference molecule CHEMBL5090394\n",
        "CHEMBL5090394 = Chem.MolFromSmiles('CNc1ncc2cc(-c3ccc(-c4ncccc4F)cc3Cl)c(=O)n(C[C@H]3OC[C@H](N)CO3)c2n1')"
      ]
    },
    {
      "cell_type": "code",
      "execution_count": null,
      "id": "f582c30a",
      "metadata": {
        "colab": {
          "base_uri": "https://localhost:8080/"
        },
        "id": "f582c30a",
        "outputId": "e349661f-69f4-4ca1-b1e8-53f6b81ed552"
      },
      "outputs": [
        {
          "output_type": "stream",
          "name": "stdout",
          "text": [
            "Valid SMILES: 80\n"
          ]
        }
      ],
      "source": [
        "# Filter out invalid SMILES\n",
        "mols = [smile for smile in SMILES if Chem.MolFromSmiles(smile) is not None]\n",
        "\n",
        "# Convert valid SMILES to RDKit molecules\n",
        "rdkit_mols = []\n",
        "\n",
        "for mol in mols:\n",
        "    rdkit_mols.append(Chem.MolFromSmiles(mol))\n",
        "\n",
        "print(f\"Valid SMILES: {len(rdkit_mols)}\")"
      ]
    },
    {
      "cell_type": "code",
      "execution_count": null,
      "id": "2dcca78a",
      "metadata": {
        "id": "2dcca78a"
      },
      "outputs": [],
      "source": [
        "# Define a Tanimoto similarity function\n",
        "def tanimoto(reference_molecule, researched_molecule):\n",
        "\n",
        "    fp = AllChem.GetMorganFingerprintAsBitVect(reference_molecule, 2, nBits=2048)\n",
        "    fp2 = AllChem.GetMorganFingerprintAsBitVect(researched_molecule, 2, nBits=2048)\n",
        "\n",
        "    same_parts = set(fp.GetOnBits()) & set(fp2.GetOnBits())\n",
        "    different_parts = set(fp.GetOnBits()) | set(fp2.GetOnBits())\n",
        "\n",
        "    return len(same_parts) / len(different_parts)"
      ]
    },
    {
      "cell_type": "code",
      "source": [
        "# # Define a Tanimoto similarity function\n",
        "# def tanimoto(reference_molecule, researched_molecule):\n",
        "\n",
        "#     fp = MACCSkeys.GenMACCSKeys(reference_molecule)\n",
        "#     fp2 = MACCSkeys.GenMACCSKeys(researched_molecule)\n",
        "\n",
        "#     same_parts = set(fp.GetOnBits()) & set(fp2.GetOnBits())\n",
        "#     different_parts = set(fp.GetOnBits()) | set(fp2.GetOnBits())\n",
        "\n",
        "#     return len(same_parts) / len(different_parts)"
      ],
      "metadata": {
        "id": "GgTqlQVh6sbg"
      },
      "id": "GgTqlQVh6sbg",
      "execution_count": null,
      "outputs": []
    },
    {
      "cell_type": "code",
      "source": [
        "# # Function to calculate MQN fingerprint\n",
        "# def calculate_mqn_fingerprint(molecule):\n",
        "#     num_bins = 42\n",
        "#     mqn = np.zeros(num_bins, dtype=int)\n",
        "\n",
        "#     for atom in molecule.GetAtoms():\n",
        "#         atom_type = atom.GetAtomicNum()\n",
        "#         if atom_type < num_bins:\n",
        "#             mqn[atom_type] += 1\n",
        "\n",
        "#     return mqn"
      ],
      "metadata": {
        "id": "IPvBTBZAkQI7"
      },
      "id": "IPvBTBZAkQI7",
      "execution_count": null,
      "outputs": []
    },
    {
      "cell_type": "code",
      "source": [
        "# # Define a Tanimoto similarity function\n",
        "# def tanimoto(reference_molecule, researched_molecule):\n",
        "\n",
        "#     fp = calculate_mqn_fingerprint(reference_molecule)\n",
        "#     fp2 = calculate_mqn_fingerprint(researched_molecule)\n",
        "\n",
        "#     same_parts = np.sum(np.minimum(fp, fp2))\n",
        "#     different_parts = np.sum(np.maximum(fp, fp2))\n",
        "\n",
        "#     return same_parts / different_parts"
      ],
      "metadata": {
        "id": "0tmP22Zq6sk1"
      },
      "id": "0tmP22Zq6sk1",
      "execution_count": null,
      "outputs": []
    },
    {
      "cell_type": "code",
      "execution_count": null,
      "id": "ec96e3a6",
      "metadata": {
        "id": "ec96e3a6"
      },
      "outputs": [],
      "source": [
        "# Calculate Tanimoto similarities with the reference molecule CHEMBL5090394\n",
        "CHEMBL5090394_similarity = {}\n",
        "\n",
        "for mol in rdkit_mols:\n",
        "    sim = tanimoto(CHEMBL5090394, mol)\n",
        "    CHEMBL5090394_similarity[mol] = sim"
      ]
    },
    {
      "cell_type": "code",
      "execution_count": null,
      "id": "d7b8bce9",
      "metadata": {
        "id": "d7b8bce9"
      },
      "outputs": [],
      "source": [
        "# Define the updated Tanimoto coefficient range\n",
        "min_threshold = 0.01\n",
        "max_threshold = 0.95"
      ]
    },
    {
      "cell_type": "code",
      "execution_count": null,
      "id": "d415a6b1",
      "metadata": {
        "colab": {
          "base_uri": "https://localhost:8080/"
        },
        "id": "d415a6b1",
        "outputId": "bf4c369a-0ca9-4c75-9326-d03b4b9a31bc"
      },
      "outputs": [
        {
          "output_type": "stream",
          "name": "stdout",
          "text": [
            "Molecules within Tanimoto coefficient range (0.01 - 0.95): 80\n"
          ]
        }
      ],
      "source": [
        "# Filter molecules based on the Tanimoto coefficient range\n",
        "filtered_molecules = {}\n",
        "\n",
        "for mol, similarity in CHEMBL5090394_similarity.items():\n",
        "    if min_threshold <= similarity <= max_threshold:\n",
        "        filtered_molecules[mol] = similarity\n",
        "print(f\"Molecules within Tanimoto coefficient range ({min_threshold} - {max_threshold}): {len(filtered_molecules)}\")"
      ]
    },
    {
      "cell_type": "code",
      "execution_count": null,
      "id": "011a5199",
      "metadata": {
        "id": "011a5199"
      },
      "outputs": [],
      "source": [
        "# # save the SMILES of filtered molecules to a file\n",
        "# filtered_smiles = [Chem.MolToSmiles(mol) for mol in filtered_molecules.keys()]\n",
        "\n",
        "# with open('filtered_smiles_Zinc.txt', 'w', encoding='utf-8') as f:\n",
        "#     for item in filtered_smiles:\n",
        "#         f.write(\"%s\\n\" % item)"
      ]
    },
    {
      "cell_type": "code",
      "execution_count": null,
      "id": "84c19311",
      "metadata": {
        "colab": {
          "base_uri": "https://localhost:8080/"
        },
        "id": "84c19311",
        "outputId": "47ef3f3f-ed44-4089-c512-825585134454"
      },
      "outputs": [
        {
          "output_type": "stream",
          "name": "stdout",
          "text": [
            "file created'\n"
          ]
        }
      ],
      "source": [
        "# Sort molecules by similarity and select the best 1000 SMILES\n",
        "sorted_molecules = sorted(CHEMBL5090394_similarity.items(), key=lambda x: x[1], reverse=True)\n",
        "selected_molecules = [mol for mol, similarity in sorted_molecules if min_threshold <= similarity <= max_threshold][:250]\n",
        "\n",
        "# Save the SMILES of selected molecules to a file\n",
        "selected_smiles = [Chem.MolToSmiles(mol) for mol in selected_molecules]\n",
        "\n",
        "with open('best_250_frag_Enamine_MiniFrag.txt', 'w', encoding='utf-8') as f:\n",
        "    for item in selected_smiles:\n",
        "        f.write(\"%s\\n\" % item)\n",
        "\n",
        "print(f\"file created'\")"
      ]
    },
    {
      "cell_type": "code",
      "source": [],
      "metadata": {
        "id": "dmd2a2ciEFi-"
      },
      "id": "dmd2a2ciEFi-",
      "execution_count": null,
      "outputs": []
    }
  ],
  "metadata": {
    "kernelspec": {
      "display_name": "Python 3",
      "name": "python3"
    },
    "language_info": {
      "codemirror_mode": {
        "name": "ipython",
        "version": 3
      },
      "file_extension": ".py",
      "mimetype": "text/x-python",
      "name": "python",
      "nbconvert_exporter": "python",
      "pygments_lexer": "ipython3",
      "version": "3.11.5"
    },
    "colab": {
      "provenance": [],
      "machine_shape": "hm",
      "gpuType": "T4"
    },
    "accelerator": "GPU"
  },
  "nbformat": 4,
  "nbformat_minor": 5
}